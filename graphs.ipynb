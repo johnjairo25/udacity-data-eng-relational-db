{
 "cells": [
  {
   "cell_type": "markdown",
   "metadata": {},
   "source": [
    "# Analytical Queries\n",
    "\n",
    "The purpose of this Notebook is to show some analytics of the imported data."
   ]
  },
  {
   "cell_type": "code",
   "execution_count": null,
   "metadata": {},
   "outputs": [],
   "source": [
    "import os\n",
    "import glob\n",
    "import psycopg2\n",
    "import pandas as pd\n",
    "import matplotlib.pyplot as plt"
   ]
  },
  {
   "cell_type": "markdown",
   "metadata": {},
   "source": [
    "## Reproductions by subscription level"
   ]
  },
  {
   "cell_type": "code",
   "execution_count": null,
   "metadata": {},
   "outputs": [],
   "source": [
    "conn = psycopg2.connect(\"host=127.0.0.1 dbname=sparkifydb user=student password=student\")\n",
    "cur = conn.cursor()"
   ]
  },
  {
   "cell_type": "code",
   "execution_count": null,
   "metadata": {},
   "outputs": [],
   "source": [
    "query = \"\"\"\n",
    "select s.\"level\", count(1) from songplays s group by s.\"level\"\n",
    "\"\"\"\n",
    "cur.execute(query)\n",
    "result = cur.fetchall()\n",
    "dictionary = {}\n",
    "for item in result:\n",
    "    dictionary[item[0]] = item[1]"
   ]
  },
  {
   "cell_type": "code",
   "execution_count": null,
   "metadata": {},
   "outputs": [],
   "source": [
    "plt.figure(figsize = (7,7))\n",
    "\n",
    "plt.hist(list(dictionary.keys()), 2, weights=list(dictionary.values()))\n",
    "plt.title('Reproductions by Subscription Level')\n",
    "plt.xlabel('Subscription Level')\n",
    "plt.ylabel('Reproductions')\n",
    "plt.show()"
   ]
  },
  {
   "cell_type": "markdown",
   "metadata": {},
   "source": [
    "## Users by Gender"
   ]
  },
  {
   "cell_type": "code",
   "execution_count": null,
   "metadata": {},
   "outputs": [],
   "source": [
    "query = \"\"\"\n",
    "select u.gender, count(1) from users u group by u.gender\n",
    "\"\"\"\n",
    "cur.execute(query)\n",
    "result = cur.fetchall()\n",
    "dictionary = {}\n",
    "for item in result:\n",
    "    dictionary[item[0]] = item[1]"
   ]
  },
  {
   "cell_type": "code",
   "execution_count": null,
   "metadata": {},
   "outputs": [],
   "source": [
    "plt.figure(figsize = (7,7))\n",
    "\n",
    "plt.hist(list(dictionary.keys()), 2, weights=list(dictionary.values()))\n",
    "plt.title('Users by Gender')\n",
    "plt.xlabel('Gender')\n",
    "plt.ylabel('Number of users')\n",
    "plt.show()"
   ]
  },
  {
   "cell_type": "markdown",
   "metadata": {},
   "source": [
    "## Activity by gender"
   ]
  },
  {
   "cell_type": "code",
   "execution_count": null,
   "metadata": {},
   "outputs": [],
   "source": [
    "query = \"\"\"\n",
    "select u.gender, count(1) \n",
    "from users u join songplays s on (u.user_id = s.user_id)\n",
    "group by u.gender\n",
    "\"\"\"\n",
    "cur.execute(query)\n",
    "result = cur.fetchall()\n",
    "dictionary = {}\n",
    "for item in result:\n",
    "    dictionary[item[0]] = item[1]"
   ]
  },
  {
   "cell_type": "code",
   "execution_count": null,
   "metadata": {},
   "outputs": [],
   "source": [
    "plt.figure(figsize = (7,7))\n",
    "\n",
    "plt.hist(list(dictionary.keys()), 2, weights=list(dictionary.values()))\n",
    "plt.title('Number of reproductions by Gender')\n",
    "plt.xlabel('Gender')\n",
    "plt.ylabel('Number of reproductions')\n",
    "plt.show()"
   ]
  },
  {
   "cell_type": "markdown",
   "metadata": {},
   "source": [
    "## Activity by Hour of day"
   ]
  },
  {
   "cell_type": "code",
   "execution_count": null,
   "metadata": {},
   "outputs": [],
   "source": [
    "query = \"\"\"\n",
    "select t.hour, count(1)\n",
    "from songplays s join time t on (s.start_time = t.start_time) \n",
    "group by t.hour\n",
    "\"\"\"\n",
    "cur.execute(query)\n",
    "result = cur.fetchall()\n",
    "dictionary = {}\n",
    "for item in result:\n",
    "    dictionary[item[0]] = item[1]"
   ]
  },
  {
   "cell_type": "code",
   "execution_count": null,
   "metadata": {},
   "outputs": [],
   "source": [
    "plt.figure(figsize = (7,7))\n",
    "\n",
    "plt.hist(list(dictionary.keys()), len(dictionary.keys()), weights=list(dictionary.values()))\n",
    "plt.title('Activity by hour')\n",
    "plt.xlabel('Hour of the day')\n",
    "plt.ylabel('Number of reproductions')\n",
    "plt.show()"
   ]
  },
  {
   "cell_type": "code",
   "execution_count": null,
   "metadata": {},
   "outputs": [],
   "source": []
  }
 ],
 "metadata": {
  "kernelspec": {
   "display_name": "Python 3",
   "language": "python",
   "name": "python3"
  },
  "language_info": {
   "codemirror_mode": {
    "name": "ipython",
    "version": 3
   },
   "file_extension": ".py",
   "mimetype": "text/x-python",
   "name": "python",
   "nbconvert_exporter": "python",
   "pygments_lexer": "ipython3",
   "version": "3.6.8"
  }
 },
 "nbformat": 4,
 "nbformat_minor": 2
}
